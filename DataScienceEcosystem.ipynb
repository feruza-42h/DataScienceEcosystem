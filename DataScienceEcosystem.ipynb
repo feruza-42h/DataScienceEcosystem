{
 "cells": [
  {
   "cell_type": "markdown",
   "id": "34db3729-0109-4378-8c38-534775b440c7",
   "metadata": {},
   "source": [
    "# Data Science Tools and Ecosystem"
   ]
  },
  {
   "cell_type": "markdown",
   "id": "86cba3ac-980d-402b-b79b-6064703750d1",
   "metadata": {},
   "source": [
    "In this notebook, Data Science Tools and Ecosystem are summarized."
   ]
  },
  {
   "cell_type": "markdown",
   "id": "59b63469-4bf5-490d-a20a-136164b09cc5",
   "metadata": {},
   "source": [
    "Some of the popular languages that Data Scientists use are:\n",
    "1. Python\n",
    "2. R\n",
    "3. SQL\n",
    "4. C++\n",
    "5. Java etc..;"
   ]
  },
  {
   "cell_type": "markdown",
   "id": "1b0c8532-1a73-4ee6-b420-55a7f9d51e03",
   "metadata": {},
   "source": [
    "Some of the commonly used libraries used by Data Scientists include:\n",
    "1. Tensorflow.\n",
    "2. NumPy.\n",
    "3. SciPy.\n",
    "4. Pandas.\n",
    "5. Matplotlib.\n",
    "6. Keras.\n",
    "7. Scikit-Learn.\n",
    "8. PyTorch. etc..;\n",
    "   "
   ]
  },
  {
   "cell_type": "markdown",
   "id": "44a2e35b-9266-4281-ad9c-a55bec1ebfad",
   "metadata": {},
   "source": [
    "|Data Science Tools|\n",
    "|---|\n",
    "|SAS|\n",
    "|Apache Hadoop|\n",
    "|Tensorflow|"
   ]
  },
  {
   "cell_type": "markdown",
   "id": "0e8941e6-b33c-4d3a-a73e-8546e96ccdad",
   "metadata": {},
   "source": [
    "### Below are a few examples of evaluating arithmetic expressions in Python"
   ]
  },
  {
   "cell_type": "code",
   "execution_count": 2,
   "id": "9f619439-6e7a-443c-927c-aa11eb7005fe",
   "metadata": {},
   "outputs": [
    {
     "data": {
      "text/plain": [
       "17"
      ]
     },
     "execution_count": 2,
     "metadata": {},
     "output_type": "execute_result"
    }
   ],
   "source": [
    "#  This a simple arithmetic expression to mutiply then add integers\n",
    "(3*4)+5"
   ]
  },
  {
   "cell_type": "code",
   "execution_count": 3,
   "id": "3376ea16-d8ba-4cbc-ba8d-d77afadcb282",
   "metadata": {},
   "outputs": [
    {
     "data": {
      "text/plain": [
       "3.3333333333333335"
      ]
     },
     "execution_count": 3,
     "metadata": {},
     "output_type": "execute_result"
    }
   ],
   "source": [
    "# This will convert 200 minutes to hours by diving by 60\n",
    "200/60"
   ]
  },
  {
   "cell_type": "markdown",
   "id": "52d56260-e245-41c6-9db5-feea44fc3674",
   "metadata": {},
   "source": [
    "__Objectives__\n",
    "* List popular languages for Data Science\n",
    "* List popular libraries for Data Science\n",
    "* List of well known Data Science Tools\n",
    "* How to provide comments in the cell"
   ]
  },
  {
   "cell_type": "markdown",
   "id": "d6bc7567-7035-4455-a526-62d9fa010a36",
   "metadata": {},
   "source": [
    "## Author\n",
    "Sayidov Akmal"
   ]
  }
 ],
 "metadata": {
  "kernelspec": {
   "display_name": "Python 3 (ipykernel)",
   "language": "python",
   "name": "python3"
  },
  "language_info": {
   "codemirror_mode": {
    "name": "ipython",
    "version": 3
   },
   "file_extension": ".py",
   "mimetype": "text/x-python",
   "name": "python",
   "nbconvert_exporter": "python",
   "pygments_lexer": "ipython3",
   "version": "3.11.9"
  }
 },
 "nbformat": 4,
 "nbformat_minor": 5
}
